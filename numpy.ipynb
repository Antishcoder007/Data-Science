{
 "cells": [
  {
   "cell_type": "code",
   "execution_count": 3,
   "id": "1977662e",
   "metadata": {},
   "outputs": [
    {
     "name": "stdout",
     "output_type": "stream",
     "text": [
      "numpy imported successfully !!\n"
     ]
    }
   ],
   "source": [
    "import numpy as np\n",
    "print(\"numpy imported successfully !!\")"
   ]
  },
  {
   "cell_type": "code",
   "execution_count": 4,
   "id": "ab2ba3a4",
   "metadata": {},
   "outputs": [
    {
     "data": {
      "text/plain": [
       "array([ 25,  14,  36,  96,  85,  74,  41,  52, 636, 545,  55])"
      ]
     },
     "execution_count": 4,
     "metadata": {},
     "output_type": "execute_result"
    }
   ],
   "source": [
    "## numpy is starts with Array creation\n",
    "ls = [25,14,36,96,85,74,41,52,636,545,55]\n",
    "arr = np.array(ls)\n",
    "arr"
   ]
  },
  {
   "cell_type": "code",
   "execution_count": 5,
   "id": "535bcd97",
   "metadata": {},
   "outputs": [
    {
     "data": {
      "text/plain": [
       "numpy.ndarray"
      ]
     },
     "execution_count": 5,
     "metadata": {},
     "output_type": "execute_result"
    }
   ],
   "source": [
    "type(arr) # nd means n dimensional array"
   ]
  },
  {
   "cell_type": "code",
   "execution_count": 6,
   "id": "b4ae6a98",
   "metadata": {},
   "outputs": [
    {
     "data": {
      "text/plain": [
       "array(['25', '14', '36', '96', '85', '74', '41', '52', '636', '545', '55',\n",
       "       'upflairs'], dtype='<U11')"
      ]
     },
     "execution_count": 6,
     "metadata": {},
     "output_type": "execute_result"
    }
   ],
   "source": [
    "## array creation\n",
    "ls = [25,14,36,96,85,74,41,52,636,545,55,'upflairs']\n",
    "arr = np.array(ls)\n",
    "arr\n",
    "# if there is no similar type of data in list then \n",
    "#it will convert all the data in similar data type\n",
    "# in above all the data converted into string"
   ]
  },
  {
   "cell_type": "code",
   "execution_count": 7,
   "id": "58cbdf5a",
   "metadata": {},
   "outputs": [
    {
     "data": {
      "text/plain": [
       "array([ 25. ,  14. ,  36. ,  96. ,  85. ,  74. ,  41. ,  52. , 636. ,\n",
       "       545. ,  55. ,  10.5])"
      ]
     },
     "execution_count": 7,
     "metadata": {},
     "output_type": "execute_result"
    }
   ],
   "source": [
    "## array creation\n",
    "ls = [25,14,36,96,85,74,41,52,636,545,55,10.5]\n",
    "arr = np.array(ls)\n",
    "arr\n",
    "# if there is no similar type of data in list then \n",
    "#it will convert all the data in similar data type\n",
    "# in above all the data converted into float"
   ]
  },
  {
   "cell_type": "code",
   "execution_count": 23,
   "id": "f19742bf",
   "metadata": {},
   "outputs": [
    {
     "data": {
      "text/plain": [
       "array([ 25,  14,  36,  96,  85,  74,  41,  52, 636, 545,  55, 251])"
      ]
     },
     "execution_count": 23,
     "metadata": {},
     "output_type": "execute_result"
    }
   ],
   "source": [
    "ls = [25,14,36,96,85,74,41,52,636,545,55,251]\n",
    "arr = np.array(ls)\n",
    "arr"
   ]
  },
  {
   "cell_type": "code",
   "execution_count": 24,
   "id": "975882f4",
   "metadata": {},
   "outputs": [
    {
     "data": {
      "text/plain": [
       "12"
      ]
     },
     "execution_count": 24,
     "metadata": {},
     "output_type": "execute_result"
    }
   ],
   "source": [
    " # both the method is use to find the length or size of array\n",
    "len(arr) "
   ]
  },
  {
   "cell_type": "code",
   "execution_count": 25,
   "id": "ef6e6127",
   "metadata": {},
   "outputs": [
    {
     "data": {
      "text/plain": [
       "12"
      ]
     },
     "execution_count": 25,
     "metadata": {},
     "output_type": "execute_result"
    }
   ],
   "source": [
    "arr.size"
   ]
  },
  {
   "cell_type": "code",
   "execution_count": 14,
   "id": "bae50500",
   "metadata": {},
   "outputs": [
    {
     "data": {
      "text/plain": [
       "dtype('int32')"
      ]
     },
     "execution_count": 14,
     "metadata": {},
     "output_type": "execute_result"
    }
   ],
   "source": [
    "arr.dtype  # it will give the type of data"
   ]
  },
  {
   "cell_type": "code",
   "execution_count": 26,
   "id": "ecd4b038",
   "metadata": {},
   "outputs": [
    {
     "data": {
      "text/plain": [
       "14"
      ]
     },
     "execution_count": 26,
     "metadata": {},
     "output_type": "execute_result"
    }
   ],
   "source": [
    "## we can access the elements of array by uisng indexing\n",
    "arr[1]"
   ]
  },
  {
   "cell_type": "code",
   "execution_count": 27,
   "id": "497d3bd3",
   "metadata": {},
   "outputs": [
    {
     "data": {
      "text/plain": [
       "array([ 14,  36,  96,  85,  74,  41,  52, 636, 545,  55, 251])"
      ]
     },
     "execution_count": 27,
     "metadata": {},
     "output_type": "execute_result"
    }
   ],
   "source": [
    "arr[1:]"
   ]
  },
  {
   "cell_type": "code",
   "execution_count": 28,
   "id": "0140bd2f",
   "metadata": {},
   "outputs": [
    {
     "data": {
      "text/plain": [
       "array([545,  55, 251])"
      ]
     },
     "execution_count": 28,
     "metadata": {},
     "output_type": "execute_result"
    }
   ],
   "source": [
    "arr[-3:] # find last 3 element by using -ve indexing"
   ]
  },
  {
   "cell_type": "code",
   "execution_count": 32,
   "id": "f8ae6850",
   "metadata": {},
   "outputs": [
    {
     "data": {
      "text/plain": [
       "array([545,  55, 251])"
      ]
     },
     "execution_count": 32,
     "metadata": {},
     "output_type": "execute_result"
    }
   ],
   "source": [
    "arr[9:] # find last 3 element by using +ve indexing"
   ]
  },
  {
   "cell_type": "code",
   "execution_count": 36,
   "id": "5840410f",
   "metadata": {},
   "outputs": [
    {
     "data": {
      "text/plain": [
       "array([251,  55, 545, 636,  52,  41,  74,  85,  96,  36,  14,  25])"
      ]
     },
     "execution_count": 36,
     "metadata": {},
     "output_type": "execute_result"
    }
   ],
   "source": [
    "arr[::-1]"
   ]
  },
  {
   "cell_type": "code",
   "execution_count": 38,
   "id": "72276d81",
   "metadata": {},
   "outputs": [
    {
     "data": {
      "text/plain": [
       "array([ 25,  14,  36,  96,  85,  74,  41,  52, 636, 545,  55, 251])"
      ]
     },
     "execution_count": 38,
     "metadata": {},
     "output_type": "execute_result"
    }
   ],
   "source": [
    "arr"
   ]
  },
  {
   "cell_type": "code",
   "execution_count": 42,
   "id": "62a53332",
   "metadata": {},
   "outputs": [
    {
     "data": {
      "text/plain": [
       "array([1, 2, 3, 4, 5, 6, 7, 8, 9])"
      ]
     },
     "execution_count": 42,
     "metadata": {},
     "output_type": "execute_result"
    }
   ],
   "source": [
    "np.arange(1,10) # to create a quick array we use arange"
   ]
  },
  {
   "cell_type": "code",
   "execution_count": 43,
   "id": "1a2c9c35",
   "metadata": {},
   "outputs": [
    {
     "data": {
      "text/plain": [
       "array([  0,   2,   4,   6,   8,  10,  12,  14,  16,  18,  20,  22,  24,\n",
       "        26,  28,  30,  32,  34,  36,  38,  40,  42,  44,  46,  48,  50,\n",
       "        52,  54,  56,  58,  60,  62,  64,  66,  68,  70,  72,  74,  76,\n",
       "        78,  80,  82,  84,  86,  88,  90,  92,  94,  96,  98, 100])"
      ]
     },
     "execution_count": 43,
     "metadata": {},
     "output_type": "execute_result"
    }
   ],
   "source": [
    "# range(start,stop,jump) it will create a quick numpy array in a range\n",
    "arr2 =np.arange(0,101,2)\n",
    "arr2"
   ]
  },
  {
   "cell_type": "code",
   "execution_count": 44,
   "id": "47586af0",
   "metadata": {},
   "outputs": [
    {
     "data": {
      "text/plain": [
       "51"
      ]
     },
     "execution_count": 44,
     "metadata": {},
     "output_type": "execute_result"
    }
   ],
   "source": [
    "arr2.size"
   ]
  },
  {
   "cell_type": "code",
   "execution_count": 45,
   "id": "4544f115",
   "metadata": {},
   "outputs": [
    {
     "data": {
      "text/plain": [
       "array([1., 1., 1., 1., 1., 1., 1., 1., 1., 1.])"
      ]
     },
     "execution_count": 45,
     "metadata": {},
     "output_type": "execute_result"
    }
   ],
   "source": [
    "# ones() will create a quick numpy array with filling with one\n",
    "# it will get one argument which is sixe of the array you want to cerate\n",
    "np.ones(10)"
   ]
  },
  {
   "cell_type": "code",
   "execution_count": 46,
   "id": "6d119ef2",
   "metadata": {},
   "outputs": [
    {
     "data": {
      "text/plain": [
       "array([0., 0., 0., 0., 0., 0., 0., 0., 0., 0.])"
      ]
     },
     "execution_count": 46,
     "metadata": {},
     "output_type": "execute_result"
    }
   ],
   "source": [
    "# np.zeros() it will fill this array with zeros\n",
    "\n",
    "np.zeros(10)"
   ]
  },
  {
   "cell_type": "code",
   "execution_count": 49,
   "id": "1b650235",
   "metadata": {},
   "outputs": [
    {
     "data": {
      "text/plain": [
       "array([ 1.        ,  3.57894737,  6.15789474,  8.73684211, 11.31578947,\n",
       "       13.89473684, 16.47368421, 19.05263158, 21.63157895, 24.21052632,\n",
       "       26.78947368, 29.36842105, 31.94736842, 34.52631579, 37.10526316,\n",
       "       39.68421053, 42.26315789, 44.84210526, 47.42105263, 50.        ])"
      ]
     },
     "execution_count": 49,
     "metadata": {},
     "output_type": "execute_result"
    }
   ],
   "source": [
    "# linspace() it will crete a quick numpy arrar\n",
    "np.linspace(1,50,20) "
   ]
  },
  {
   "cell_type": "code",
   "execution_count": 60,
   "id": "a3363134",
   "metadata": {},
   "outputs": [
    {
     "data": {
      "text/plain": [
       "array([138,  59,  73,  96,  56, 184, 114,   5, 190,  16, 108, 144,  55,\n",
       "       139,  65,  24, 185, 128,  55, 127,  32,  70, 144, 159,  33, 173,\n",
       "       168, 173,  17,  49,  15, 127,  38, 190,  48,  84,  53,   8,  29,\n",
       "         6,  38, 193,  19, 119, 149,  60, 127,  95,  81,  88,  30, 159,\n",
       "         1,  40, 128,   3, 110, 130, 161, 123, 104, 178, 108,  71,  92,\n",
       "         3, 101,  61,  44, 115,  74, 173, 132,  46, 191, 180, 102, 185,\n",
       "       179,  66,  67, 128, 118,  69, 130,  66, 101, 134,  63, 187,  12,\n",
       "       185,  78,  84, 125,  13, 116,  60, 116, 117,  23,  42,  27, 188,\n",
       "       166,  18,  22, 106, 180, 142,  24, 133, 105, 163, 106,  47,  32,\n",
       "       112,  27,  64,  99,  67, 166, 102,  91,  53,   9,   1,  29, 183,\n",
       "       165,  52, 137, 137,  58,  89, 176, 174, 174,  27, 111, 165, 155,\n",
       "        49, 105,  58,  74, 171, 117, 134, 191, 153,  47,  16, 103, 191,\n",
       "        64, 175, 138, 112, 156, 186, 126,  83, 166,  55,  44,  70, 186,\n",
       "       154,  75, 125, 175,  87, 170,  26,  61, 136,  73, 189, 116, 191,\n",
       "       115, 182,  24,   6, 197, 198,  35, 173, 183,  46, 104,  36, 116,\n",
       "         5,  59,  67,  76, 172,  95,  96,  94, 153,  16, 153, 141,  80,\n",
       "        72,  68, 181, 141,  75,  80,  74, 172,  86, 143, 159, 111, 126,\n",
       "        38, 157, 175, 103, 146,  36,  41,  94,  95,  45, 103,  97,  77,\n",
       "       153, 176,  67,  32, 147,  84,   5, 151, 172,  83,  87,  59,   5,\n",
       "       159, 154, 100, 130, 144, 192, 172,  31,  70,  76, 136, 138, 100,\n",
       "        48, 107, 123,   6, 115,   8, 132,  55, 159,  21,  25, 137,  76,\n",
       "       180,  19, 123,  54, 174, 119, 175, 162,  43,  35,  66, 105,  43,\n",
       "        14,  56, 102,  20,  69, 144,  33, 185,  72, 126, 105,  63,  52,\n",
       "        97,  78,  77, 117, 181,  11, 111, 156, 193,   5, 174,   4,  17,\n",
       "         9, 177, 127,  70,  41,  32, 133,  65, 189, 146,  42, 193, 151,\n",
       "        90, 146,   3, 196,  41,  14, 166,  38,  90,  65,  13, 171, 127,\n",
       "       118,  49, 187,  31, 111, 110, 138, 163,  90, 150,  52, 167, 159,\n",
       "        20,  38,  33,  71, 157,  65, 147,  38,  85, 133,  39, 188, 127,\n",
       "       133, 197, 184,  75, 114,  73,  95, 114,  14, 199,  30, 105, 186,\n",
       "       199, 161,   6,  23, 148, 101,   1, 128,  65, 171, 189, 131,  16,\n",
       "        35, 189, 104, 172, 163, 196,  14,  22,  90, 128, 144,   2, 122,\n",
       "        26,  47, 184, 152, 109, 121, 195, 187, 115, 133, 175, 110,  72,\n",
       "       148,  33, 175,  56, 118, 119,  16, 129,  54,  33,  25, 162, 195,\n",
       "       189, 111, 187, 154, 162, 117, 198, 122,  37, 141,   5,  74,  60,\n",
       "       187,  88, 128,  82, 137,  35, 183, 138, 152,  26,  91,  85,  36,\n",
       "        47,  66, 163, 178, 130,  89, 181,  91,  32, 118,  93,  27, 123,\n",
       "       165,  33,  44,  62,  52,  66, 153,  54, 151, 131, 144,  75,  67,\n",
       "       180,  31, 103, 103,  97, 119, 103, 174, 163, 181,  86,  38, 180,\n",
       "        31, 120, 121, 167, 153, 148])"
      ]
     },
     "execution_count": 60,
     "metadata": {},
     "output_type": "execute_result"
    }
   ],
   "source": [
    "# random.randint(start,end,no of elements)\n",
    "# it will create a random quick array betwen \n",
    "#start to end and no of elements\n",
    "arr1 =np.random.randint(1,200,500)\n",
    "arr1"
   ]
  },
  {
   "cell_type": "code",
   "execution_count": 64,
   "id": "0da84835",
   "metadata": {},
   "outputs": [
    {
     "data": {
      "text/plain": [
       "171"
      ]
     },
     "execution_count": 64,
     "metadata": {},
     "output_type": "execute_result"
    }
   ],
   "source": [
    "#quiz: filter all items that are less then or equals to 70\n",
    "# how many items are preseent in your array\n",
    "\n",
    "filtered_arr = arr1[arr1 <= 70]\n",
    "\n",
    "len(filtered_arr)"
   ]
  },
  {
   "cell_type": "code",
   "execution_count": 10,
   "id": "9cc5117d",
   "metadata": {},
   "outputs": [
    {
     "data": {
      "text/plain": [
       "array([[[189,  35,  30, 185, 128],\n",
       "        [157,  59,  72,  13, 174],\n",
       "        [ 83,  57,  49,  14, 173],\n",
       "        [170, 147, 158,   6,   6],\n",
       "        [  6, 191, 145, 158,   9],\n",
       "        [157,  13,  91,  83,  79],\n",
       "        [144, 115,  59, 167, 187],\n",
       "        [180,  14, 144, 104, 188],\n",
       "        [164, 150,  15, 186, 128],\n",
       "        [ 91, 111, 143,  41, 118]],\n",
       "\n",
       "       [[ 33,  14, 191, 141,  36],\n",
       "        [176, 192,  67, 118, 139],\n",
       "        [ 89, 148,   6, 119,   6],\n",
       "        [115,  86,  59,  29, 154],\n",
       "        [ 69,  60, 193,  38, 129],\n",
       "        [ 44, 175, 116, 134,  43],\n",
       "        [112, 151,  24,  28, 127],\n",
       "        [ 78, 159,  86,   5, 160],\n",
       "        [ 39,  85,  28, 189,  37],\n",
       "        [121,  63, 104, 170, 144]],\n",
       "\n",
       "       [[ 49,  36, 197, 131,  27],\n",
       "        [ 84,   8, 160,  33, 196],\n",
       "        [ 73, 180,  11,  87, 129],\n",
       "        [ 75, 133,  10, 156, 188],\n",
       "        [181, 172, 169, 168, 128],\n",
       "        [ 69,  82, 147,   6, 133],\n",
       "        [ 55, 128,  81,  36, 132],\n",
       "        [ 40, 168, 174,  23, 104],\n",
       "        [156, 199,  93, 174,  31],\n",
       "        [124, 127,  30,  42,  68]],\n",
       "\n",
       "       [[193, 113, 112, 102, 177],\n",
       "        [189, 155, 181, 186, 108],\n",
       "        [112,  79, 143,  87,  65],\n",
       "        [178,  28,  82, 154, 184],\n",
       "        [  7,  36,  39, 184, 149],\n",
       "        [183, 128, 103,  59,  45],\n",
       "        [173,   8, 184, 107,  73],\n",
       "        [ 88, 123,  81, 175, 119],\n",
       "        [102, 106, 110,  84, 147],\n",
       "        [ 12,  79, 183,  76, 198]],\n",
       "\n",
       "       [[145, 187, 120, 115,  14],\n",
       "        [177,  96, 126,  86, 108],\n",
       "        [111, 109,  39, 196,  42],\n",
       "        [122, 103, 152,  51,  30],\n",
       "        [151, 197,  68, 107,  58],\n",
       "        [116,  30, 169,  54, 161],\n",
       "        [ 72,  36, 193, 154,  86],\n",
       "        [ 37, 134,  90, 149, 111],\n",
       "        [138,  76, 139, 106,  88],\n",
       "        [ 53, 131,  24, 170, 187]]])"
      ]
     },
     "execution_count": 10,
     "metadata": {},
     "output_type": "execute_result"
    }
   ],
   "source": [
    "import numpy as np\n",
    "\n",
    "arr3d = np.random.randint(5,200,(5,10,5))\n",
    "arr3d"
   ]
  },
  {
   "cell_type": "code",
   "execution_count": 11,
   "id": "5e80d9e2",
   "metadata": {},
   "outputs": [
    {
     "data": {
      "text/plain": [
       "(5, 10, 5)"
      ]
     },
     "execution_count": 11,
     "metadata": {},
     "output_type": "execute_result"
    }
   ],
   "source": [
    "arr3d.shape"
   ]
  },
  {
   "cell_type": "code",
   "execution_count": null,
   "id": "0ae975e8",
   "metadata": {},
   "outputs": [],
   "source": [
    "#(5, 10, 5)\n",
    "#5 ==> tables\n",
    "#10 ==>Rows\n",
    "#5 ==> Columns"
   ]
  },
  {
   "cell_type": "code",
   "execution_count": 12,
   "id": "64d225f1",
   "metadata": {},
   "outputs": [
    {
     "data": {
      "text/plain": [
       "array([[189,  35,  30, 185, 128],\n",
       "       [157,  59,  72,  13, 174],\n",
       "       [ 83,  57,  49,  14, 173],\n",
       "       [170, 147, 158,   6,   6],\n",
       "       [  6, 191, 145, 158,   9],\n",
       "       [157,  13,  91,  83,  79],\n",
       "       [144, 115,  59, 167, 187],\n",
       "       [180,  14, 144, 104, 188],\n",
       "       [164, 150,  15, 186, 128],\n",
       "       [ 91, 111, 143,  41, 118]])"
      ]
     },
     "execution_count": 12,
     "metadata": {},
     "output_type": "execute_result"
    }
   ],
   "source": [
    "arr3d[0] # "
   ]
  },
  {
   "cell_type": "code",
   "execution_count": 13,
   "id": "7e25538a",
   "metadata": {},
   "outputs": [
    {
     "data": {
      "text/plain": [
       "array([[[189,  35,  30, 185, 128],\n",
       "        [157,  59,  72,  13, 174],\n",
       "        [ 83,  57,  49,  14, 173],\n",
       "        [170, 147, 158,   6,   6],\n",
       "        [  6, 191, 145, 158,   9],\n",
       "        [157,  13,  91,  83,  79],\n",
       "        [144, 115,  59, 167, 187],\n",
       "        [180,  14, 144, 104, 188],\n",
       "        [164, 150,  15, 186, 128],\n",
       "        [ 91, 111, 143,  41, 118]],\n",
       "\n",
       "       [[ 33,  14, 191, 141,  36],\n",
       "        [176, 192,  67, 118, 139],\n",
       "        [ 89, 148,   6, 119,   6],\n",
       "        [115,  86,  59,  29, 154],\n",
       "        [ 69,  60, 193,  38, 129],\n",
       "        [ 44, 175, 116, 134,  43],\n",
       "        [112, 151,  24,  28, 127],\n",
       "        [ 78, 159,  86,   5, 160],\n",
       "        [ 39,  85,  28, 189,  37],\n",
       "        [121,  63, 104, 170, 144]],\n",
       "\n",
       "       [[ 49,  36, 197, 131,  27],\n",
       "        [ 84,   8, 160,  33, 196],\n",
       "        [ 73, 180,  11,  87, 129],\n",
       "        [ 75, 133,  10, 156, 188],\n",
       "        [181, 172, 169, 168, 128],\n",
       "        [ 69,  82, 147,   6, 133],\n",
       "        [ 55, 128,  81,  36, 132],\n",
       "        [ 40, 168, 174,  23, 104],\n",
       "        [156, 199,  93, 174,  31],\n",
       "        [124, 127,  30,  42,  68]],\n",
       "\n",
       "       [[193, 113, 112, 102, 177],\n",
       "        [189, 155, 181, 186, 108],\n",
       "        [112,  79, 143,  87,  65],\n",
       "        [178,  28,  82, 154, 184],\n",
       "        [  7,  36,  39, 184, 149],\n",
       "        [183, 128, 103,  59,  45],\n",
       "        [173,   8, 184, 107,  73],\n",
       "        [ 88, 123,  81, 175, 119],\n",
       "        [102, 106, 110,  84, 147],\n",
       "        [ 12,  79, 183,  76, 198]],\n",
       "\n",
       "       [[145, 187, 120, 115,  14],\n",
       "        [177,  96, 126,  86, 108],\n",
       "        [111, 109,  39, 196,  42],\n",
       "        [122, 103, 152,  51,  30],\n",
       "        [151, 197,  68, 107,  58],\n",
       "        [116,  30, 169,  54, 161],\n",
       "        [ 72,  36, 193, 154,  86],\n",
       "        [ 37, 134,  90, 149, 111],\n",
       "        [138,  76, 139, 106,  88],\n",
       "        [ 53, 131,  24, 170, 187]]])"
      ]
     },
     "execution_count": 13,
     "metadata": {},
     "output_type": "execute_result"
    }
   ],
   "source": [
    "arr3d"
   ]
  },
  {
   "cell_type": "code",
   "execution_count": 17,
   "id": "0f3023c3",
   "metadata": {},
   "outputs": [
    {
     "data": {
      "text/plain": [
       "array([[112, 151,  24,  28, 127],\n",
       "       [ 78, 159,  86,   5, 160],\n",
       "       [ 39,  85,  28, 189,  37],\n",
       "       [121,  63, 104, 170, 144]])"
      ]
     },
     "execution_count": 17,
     "metadata": {},
     "output_type": "execute_result"
    }
   ],
   "source": [
    "arr3d[1,6:]"
   ]
  },
  {
   "cell_type": "code",
   "execution_count": 20,
   "id": "85f58293",
   "metadata": {},
   "outputs": [
    {
     "data": {
      "text/plain": [
       "array([[[144, 115,  59, 167, 187],\n",
       "        [180,  14, 144, 104, 188],\n",
       "        [164, 150,  15, 186, 128],\n",
       "        [ 91, 111, 143,  41, 118]],\n",
       "\n",
       "       [[112, 151,  24,  28, 127],\n",
       "        [ 78, 159,  86,   5, 160],\n",
       "        [ 39,  85,  28, 189,  37],\n",
       "        [121,  63, 104, 170, 144]],\n",
       "\n",
       "       [[ 55, 128,  81,  36, 132],\n",
       "        [ 40, 168, 174,  23, 104],\n",
       "        [156, 199,  93, 174,  31],\n",
       "        [124, 127,  30,  42,  68]],\n",
       "\n",
       "       [[173,   8, 184, 107,  73],\n",
       "        [ 88, 123,  81, 175, 119],\n",
       "        [102, 106, 110,  84, 147],\n",
       "        [ 12,  79, 183,  76, 198]],\n",
       "\n",
       "       [[ 72,  36, 193, 154,  86],\n",
       "        [ 37, 134,  90, 149, 111],\n",
       "        [138,  76, 139, 106,  88],\n",
       "        [ 53, 131,  24, 170, 187]]])"
      ]
     },
     "execution_count": 20,
     "metadata": {},
     "output_type": "execute_result"
    }
   ],
   "source": [
    "arr3d[0:,6:]"
   ]
  },
  {
   "cell_type": "code",
   "execution_count": 35,
   "id": "7cc849b3",
   "metadata": {},
   "outputs": [
    {
     "data": {
      "text/plain": [
       "array([[ 91, 111, 143,  41, 118],\n",
       "       [121,  63, 104, 170, 144],\n",
       "       [124, 127,  30,  42,  68],\n",
       "       [ 12,  79, 183,  76, 198],\n",
       "       [ 53, 131,  24, 170, 187]])"
      ]
     },
     "execution_count": 35,
     "metadata": {},
     "output_type": "execute_result"
    }
   ],
   "source": [
    "arr3d[0:,9]"
   ]
  },
  {
   "cell_type": "code",
   "execution_count": 36,
   "id": "e7ec0eed",
   "metadata": {},
   "outputs": [
    {
     "data": {
      "text/plain": [
       "array([[[ 91, 111, 143,  41, 118]],\n",
       "\n",
       "       [[121,  63, 104, 170, 144]],\n",
       "\n",
       "       [[124, 127,  30,  42,  68]],\n",
       "\n",
       "       [[ 12,  79, 183,  76, 198]],\n",
       "\n",
       "       [[ 53, 131,  24, 170, 187]]])"
      ]
     },
     "execution_count": 36,
     "metadata": {},
     "output_type": "execute_result"
    }
   ],
   "source": [
    "arr3d[0:,9:]"
   ]
  },
  {
   "cell_type": "code",
   "execution_count": 44,
   "id": "8f693942",
   "metadata": {},
   "outputs": [],
   "source": [
    "arr3d[-1,-1,-1] =500\n"
   ]
  },
  {
   "cell_type": "code",
   "execution_count": 45,
   "id": "78efee2f",
   "metadata": {},
   "outputs": [
    {
     "data": {
      "text/plain": [
       "500"
      ]
     },
     "execution_count": 45,
     "metadata": {},
     "output_type": "execute_result"
    }
   ],
   "source": [
    "arr3d[-1,-1,-1]"
   ]
  },
  {
   "cell_type": "code",
   "execution_count": 47,
   "id": "f9039ddd",
   "metadata": {},
   "outputs": [],
   "source": [
    "arr = np.arange(60)"
   ]
  },
  {
   "cell_type": "code",
   "execution_count": 50,
   "id": "14456dc4",
   "metadata": {},
   "outputs": [
    {
     "data": {
      "text/plain": [
       "array([[ 0,  1,  2],\n",
       "       [ 3,  4,  5],\n",
       "       [ 6,  7,  8],\n",
       "       [ 9, 10, 11],\n",
       "       [12, 13, 14],\n",
       "       [15, 16, 17],\n",
       "       [18, 19, 20],\n",
       "       [21, 22, 23],\n",
       "       [24, 25, 26],\n",
       "       [27, 28, 29],\n",
       "       [30, 31, 32],\n",
       "       [33, 34, 35],\n",
       "       [36, 37, 38],\n",
       "       [39, 40, 41],\n",
       "       [42, 43, 44],\n",
       "       [45, 46, 47],\n",
       "       [48, 49, 50],\n",
       "       [51, 52, 53],\n",
       "       [54, 55, 56],\n",
       "       [57, 58, 59]])"
      ]
     },
     "execution_count": 50,
     "metadata": {},
     "output_type": "execute_result"
    }
   ],
   "source": [
    "# to convert one D array into 2 or mor dimension array\n",
    "# reshape()\n",
    "\n",
    "arr.reshape(20,3) # 2dimension"
   ]
  },
  {
   "cell_type": "code",
   "execution_count": 60,
   "id": "06a9fba3",
   "metadata": {},
   "outputs": [],
   "source": [
    "arr2 = arr.reshape(3,10,2)"
   ]
  },
  {
   "cell_type": "code",
   "execution_count": 61,
   "id": "2dd752c4",
   "metadata": {},
   "outputs": [
    {
     "ename": "AttributeError",
     "evalue": "'numpy.ndarray' object has no attribute 'revel'",
     "output_type": "error",
     "traceback": [
      "\u001b[1;31m---------------------------------------------------------------------------\u001b[0m",
      "\u001b[1;31mAttributeError\u001b[0m                            Traceback (most recent call last)",
      "Cell \u001b[1;32mIn[61], line 1\u001b[0m\n\u001b[1;32m----> 1\u001b[0m arr2\u001b[38;5;241m.\u001b[39mrevel()\n",
      "\u001b[1;31mAttributeError\u001b[0m: 'numpy.ndarray' object has no attribute 'revel'"
     ]
    }
   ],
   "source": [
    "arr2.revel() # this function will convert to any dimension array to one dimension array"
   ]
  },
  {
   "cell_type": "code",
   "execution_count": 62,
   "id": "54296e67",
   "metadata": {},
   "outputs": [
    {
     "data": {
      "text/plain": [
       "array([ 0,  1,  2,  3,  4,  5,  6,  7,  8,  9, 10, 11, 12, 13, 14, 15, 16,\n",
       "       17, 18, 19, 20, 21, 22, 23, 24, 25, 26, 27, 28, 29, 30, 31, 32, 33,\n",
       "       34, 35, 36, 37, 38, 39, 40, 41, 42, 43, 44, 45, 46, 47, 48, 49, 50,\n",
       "       51, 52, 53, 54, 55, 56, 57, 58, 59])"
      ]
     },
     "execution_count": 62,
     "metadata": {},
     "output_type": "execute_result"
    }
   ],
   "source": [
    "arr2.flatten()"
   ]
  },
  {
   "cell_type": "code",
   "execution_count": 64,
   "id": "cdc9c56a",
   "metadata": {},
   "outputs": [
    {
     "data": {
      "text/plain": [
       "array([[ 38,  54, 161],\n",
       "       [151,  54, 140],\n",
       "       [ 17, 152, 164],\n",
       "       [ 52, 127,  77],\n",
       "       [ 57, 151, 148]])"
      ]
     },
     "execution_count": 64,
     "metadata": {},
     "output_type": "execute_result"
    }
   ],
   "source": [
    "arr4 = np.random.randint(1,200,(5,3))\n",
    "arr4"
   ]
  },
  {
   "cell_type": "code",
   "execution_count": 65,
   "id": "d9170425",
   "metadata": {},
   "outputs": [
    {
     "data": {
      "text/plain": [
       "(5, 3)"
      ]
     },
     "execution_count": 65,
     "metadata": {},
     "output_type": "execute_result"
    }
   ],
   "source": [
    "arr4.shape"
   ]
  },
  {
   "cell_type": "code",
   "execution_count": 67,
   "id": "4cd5c251",
   "metadata": {},
   "outputs": [
    {
     "data": {
      "text/plain": [
       "(3, 5)"
      ]
     },
     "execution_count": 67,
     "metadata": {},
     "output_type": "execute_result"
    }
   ],
   "source": [
    "np.transpose(arr4).shape"
   ]
  },
  {
   "cell_type": "code",
   "execution_count": 68,
   "id": "ff937870",
   "metadata": {},
   "outputs": [
    {
     "data": {
      "text/plain": [
       "array([[ 38, 151,  17,  52,  57],\n",
       "       [ 54,  54, 152, 127, 151],\n",
       "       [161, 140, 164,  77, 148]])"
      ]
     },
     "execution_count": 68,
     "metadata": {},
     "output_type": "execute_result"
    }
   ],
   "source": [
    "arr4.T"
   ]
  },
  {
   "cell_type": "code",
   "execution_count": 73,
   "id": "b63413c1",
   "metadata": {},
   "outputs": [
    {
     "data": {
      "text/plain": [
       "array([ 38,  54, 161, 151,  54, 140,  17, 152, 164,  52, 127,  77,  57,\n",
       "       151, 148])"
      ]
     },
     "execution_count": 73,
     "metadata": {},
     "output_type": "execute_result"
    }
   ],
   "source": [
    " arr5 = arr4.flatten()\n",
    "arr5"
   ]
  },
  {
   "cell_type": "code",
   "execution_count": 74,
   "id": "0453c2a1",
   "metadata": {},
   "outputs": [
    {
     "data": {
      "text/plain": [
       "17"
      ]
     },
     "execution_count": 74,
     "metadata": {},
     "output_type": "execute_result"
    }
   ],
   "source": [
    "arr5.min() #to find minimum"
   ]
  },
  {
   "cell_type": "code",
   "execution_count": 77,
   "id": "3504abe1",
   "metadata": {},
   "outputs": [
    {
     "data": {
      "text/plain": [
       "164"
      ]
     },
     "execution_count": 77,
     "metadata": {},
     "output_type": "execute_result"
    }
   ],
   "source": [
    "arr5.max() #to find maximum"
   ]
  },
  {
   "cell_type": "code",
   "execution_count": 78,
   "id": "0af30cc7",
   "metadata": {},
   "outputs": [
    {
     "data": {
      "text/plain": [
       "102.86666666666666"
      ]
     },
     "execution_count": 78,
     "metadata": {},
     "output_type": "execute_result"
    }
   ],
   "source": [
    "arr5.mean() # to find mean"
   ]
  },
  {
   "cell_type": "code",
   "execution_count": 80,
   "id": "df1a3100",
   "metadata": {},
   "outputs": [
    {
     "data": {
      "text/plain": [
       "127.0"
      ]
     },
     "execution_count": 80,
     "metadata": {},
     "output_type": "execute_result"
    }
   ],
   "source": [
    "np.median(arr5)"
   ]
  },
  {
   "cell_type": "code",
   "execution_count": 83,
   "id": "cc5ebcc9",
   "metadata": {},
   "outputs": [
    {
     "data": {
      "text/plain": [
       "array([9, 7, 8])"
      ]
     },
     "execution_count": 83,
     "metadata": {},
     "output_type": "execute_result"
    }
   ],
   "source": [
    "arr6 = np.array([9,7,8])\n",
    "arr6"
   ]
  },
  {
   "cell_type": "code",
   "execution_count": 84,
   "id": "5e31ed1e",
   "metadata": {},
   "outputs": [
    {
     "data": {
      "text/plain": [
       "1"
      ]
     },
     "execution_count": 84,
     "metadata": {},
     "output_type": "execute_result"
    }
   ],
   "source": [
    "# arr.argmin() it will show the index of minumimum value\n",
    "arr6.argmin()"
   ]
  },
  {
   "cell_type": "code",
   "execution_count": 86,
   "id": "847c64c7",
   "metadata": {},
   "outputs": [
    {
     "data": {
      "text/plain": [
       "0"
      ]
     },
     "execution_count": 86,
     "metadata": {},
     "output_type": "execute_result"
    }
   ],
   "source": [
    "arr6.argmax() # it will returns the inde value of max value"
   ]
  },
  {
   "cell_type": "code",
   "execution_count": 88,
   "id": "73a1f8a9",
   "metadata": {},
   "outputs": [
    {
     "data": {
      "text/plain": [
       "array([7, 8, 9])"
      ]
     },
     "execution_count": 88,
     "metadata": {},
     "output_type": "execute_result"
    }
   ],
   "source": [
    "# arr.sort() it will sort the array in ascendiong order\n",
    "arr6.sort()\n",
    "arr6"
   ]
  },
  {
   "cell_type": "code",
   "execution_count": 89,
   "id": "79d80a97",
   "metadata": {},
   "outputs": [
    {
     "data": {
      "text/plain": [
       "array([9, 8, 7])"
      ]
     },
     "execution_count": 89,
     "metadata": {},
     "output_type": "execute_result"
    }
   ],
   "source": [
    "arr6[::-1]"
   ]
  },
  {
   "cell_type": "code",
   "execution_count": 91,
   "id": "4c62d604",
   "metadata": {},
   "outputs": [
    {
     "data": {
      "text/plain": [
       "array([9, 7, 8])"
      ]
     },
     "execution_count": 91,
     "metadata": {},
     "output_type": "execute_result"
    }
   ],
   "source": [
    "arr7 =np.array([9,7,8])\n",
    "arr7"
   ]
  },
  {
   "cell_type": "code",
   "execution_count": 93,
   "id": "101eee47",
   "metadata": {},
   "outputs": [
    {
     "data": {
      "text/plain": [
       "array([1, 2, 0], dtype=int64)"
      ]
     },
     "execution_count": 93,
     "metadata": {},
     "output_type": "execute_result"
    }
   ],
   "source": [
    "arr7.argsort() # this will return the index value in the order of asending"
   ]
  },
  {
   "cell_type": "code",
   "execution_count": null,
   "id": "bfbfbbef",
   "metadata": {},
   "outputs": [],
   "source": []
  },
  {
   "cell_type": "code",
   "execution_count": null,
   "id": "6e2e600d",
   "metadata": {},
   "outputs": [],
   "source": []
  },
  {
   "cell_type": "code",
   "execution_count": null,
   "id": "add04f89",
   "metadata": {},
   "outputs": [],
   "source": []
  },
  {
   "cell_type": "code",
   "execution_count": null,
   "id": "708075ac",
   "metadata": {},
   "outputs": [],
   "source": []
  },
  {
   "cell_type": "code",
   "execution_count": null,
   "id": "09387980",
   "metadata": {},
   "outputs": [],
   "source": []
  },
  {
   "cell_type": "code",
   "execution_count": null,
   "id": "fc9325bb",
   "metadata": {},
   "outputs": [],
   "source": []
  }
 ],
 "metadata": {
  "kernelspec": {
   "display_name": "Python 3 (ipykernel)",
   "language": "python",
   "name": "python3"
  },
  "language_info": {
   "codemirror_mode": {
    "name": "ipython",
    "version": 3
   },
   "file_extension": ".py",
   "mimetype": "text/x-python",
   "name": "python",
   "nbconvert_exporter": "python",
   "pygments_lexer": "ipython3",
   "version": "3.11.5"
  }
 },
 "nbformat": 4,
 "nbformat_minor": 5
}
